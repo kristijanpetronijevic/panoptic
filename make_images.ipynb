{
 "cells": [
  {
   "cell_type": "code",
   "execution_count": 2,
   "id": "70132f26",
   "metadata": {},
   "outputs": [
    {
     "name": "stdout",
     "output_type": "stream",
     "text": [
      "Ukupno sačuvano frejmova: 425\n"
     ]
    }
   ],
   "source": [
    "import cv2\n",
    "import os\n",
    "\n",
    "def video_to_frames(video_path, output_folder):\n",
    "    # Kreiranje izlaznog foldera ako ne postoji\n",
    "    if not os.path.exists(output_folder):\n",
    "        os.makedirs(output_folder)\n",
    "\n",
    "    # Otvaranje video fajla\n",
    "    vidcap = cv2.VideoCapture(video_path)\n",
    "    success, image = vidcap.read()\n",
    "    count = 0\n",
    "\n",
    "    while success:\n",
    "        # Sačuvaj trenutni frejm kao JPEG sliku\n",
    "        #Football batch 3.mp4_00000.jpg\n",
    "        cv2.imwrite(os.path.join(output_folder, f\"Football batch 3.mp4_{count:04d}.jpg\"), image)\n",
    "        success, image = vidcap.read()\n",
    "        count += 1\n",
    "\n",
    "    vidcap.release()\n",
    "    print(f\"Ukupno sačuvano frejmova: {count}\")\n",
    "\n",
    "# Primer korišćenja\n",
    "video_path = '../archive/Batch 3/import-videos/video/Batch 3.mp4'\n",
    "output_folder = '../archive/Batch 3/import-videos/images'\n",
    "video_to_frames(video_path, output_folder)\n"
   ]
  }
 ],
 "metadata": {
  "kernelspec": {
   "display_name": "Python 3 (ipykernel)",
   "language": "python",
   "name": "python3"
  },
  "language_info": {
   "codemirror_mode": {
    "name": "ipython",
    "version": 3
   },
   "file_extension": ".py",
   "mimetype": "text/x-python",
   "name": "python",
   "nbconvert_exporter": "python",
   "pygments_lexer": "ipython3",
   "version": "3.11.5"
  }
 },
 "nbformat": 4,
 "nbformat_minor": 5
}
